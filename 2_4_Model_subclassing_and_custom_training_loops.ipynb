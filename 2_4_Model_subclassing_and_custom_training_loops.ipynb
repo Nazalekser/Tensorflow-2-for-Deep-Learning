{
  "cells": [
    {
      "cell_type": "code",
      "execution_count": 1,
      "metadata": {
        "id": "mnDW5KVXIz07",
        "outputId": "00339e40-e711-49a1-f873-bf212fb848d3",
        "colab": {
          "base_uri": "https://localhost:8080/"
        }
      },
      "outputs": [
        {
          "output_type": "stream",
          "name": "stdout",
          "text": [
            "2.7.0\n"
          ]
        }
      ],
      "source": [
        "import tensorflow as tf\n",
        "print(tf.__version__)"
      ]
    },
    {
      "cell_type": "markdown",
      "metadata": {
        "id": "XgZBpWlDIz1A"
      },
      "source": [
        "# Model subclassing and custom training loops"
      ]
    },
    {
      "cell_type": "markdown",
      "metadata": {
        "id": "Lo8thKKtIz1E"
      },
      "source": [
        " ## Coding tutorials\n",
        " #### [1. Model subclassing](#coding_tutorial_1)\n",
        " #### [2. Custom layers](#coding_tutorial_2)\n",
        " #### [3. Automatic differentiation](#coding_tutorial_3)\n",
        " #### [4. Custom training loops](#coding_tutorial_4)\n",
        " #### [5. tf.function decorator](#coding_tutorial_5)"
      ]
    },
    {
      "cell_type": "markdown",
      "metadata": {
        "id": "SuuYfZiDIz1I"
      },
      "source": [
        "***\n",
        "<a id=\"coding_tutorial_1\"></a>\n",
        "## Model subclassing"
      ]
    },
    {
      "cell_type": "code",
      "execution_count": 2,
      "metadata": {
        "id": "gFGR-RfvIz1L"
      },
      "outputs": [],
      "source": [
        "from tensorflow.keras.models import Model\n",
        "from tensorflow.keras.layers import Dense, Dropout, Softmax, concatenate"
      ]
    },
    {
      "cell_type": "markdown",
      "metadata": {
        "id": "2gxPAcEpIz1N"
      },
      "source": [
        "#### Create a simple model using the model subclassing API"
      ]
    },
    {
      "cell_type": "code",
      "execution_count": 3,
      "metadata": {
        "id": "ec1TKOirIz1P"
      },
      "outputs": [],
      "source": [
        "# Build the model\n",
        "\n",
        "class MyModel(Model):\n",
        "\n",
        "    def __init__(self):\n",
        "        super(MyModel, self).__init__()\n",
        "        self.dense1 = Dense(64, activation='relu')\n",
        "        self.dense2 = Dense(10)\n",
        "        self.dense3 = Dense(5)\n",
        "        self.softmax = Softmax()\n",
        "\n",
        "    def call(self, inputs):\n",
        "        x = self.dense1(inputs)\n",
        "        y1 = self.dense2(inputs)\n",
        "        y2 = self.dense3(y1)\n",
        "        concat = concatenate([x, y2])\n",
        "        return self.softmax(concat)"
      ]
    },
    {
      "cell_type": "code",
      "execution_count": 4,
      "metadata": {
        "id": "8i_QOINOIz1Q",
        "colab": {
          "base_uri": "https://localhost:8080/"
        },
        "outputId": "d1c8c614-d97e-44e2-fea4-79fbd6031e4b"
      },
      "outputs": [
        {
          "output_type": "stream",
          "name": "stdout",
          "text": [
            "Model: \"my_model\"\n",
            "_________________________________________________________________\n",
            " Layer (type)                Output Shape              Param #   \n",
            "=================================================================\n",
            " dense (Dense)               multiple                  704       \n",
            "                                                                 \n",
            " dense_1 (Dense)             multiple                  110       \n",
            "                                                                 \n",
            " dense_2 (Dense)             multiple                  55        \n",
            "                                                                 \n",
            " softmax (Softmax)           multiple                  0         \n",
            "                                                                 \n",
            "=================================================================\n",
            "Total params: 869\n",
            "Trainable params: 869\n",
            "Non-trainable params: 0\n",
            "_________________________________________________________________\n"
          ]
        }
      ],
      "source": [
        "# Print the model summary\n",
        "\n",
        "model = MyModel()\n",
        "model(tf.random.uniform([1,10]))\n",
        "model.summary()"
      ]
    },
    {
      "cell_type": "markdown",
      "metadata": {
        "id": "nkH3RqwBIz1S"
      },
      "source": [
        "***\n",
        "<a id=\"coding_tutorial_2\"></a>\n",
        "## Custom layers"
      ]
    },
    {
      "cell_type": "code",
      "execution_count": 5,
      "metadata": {
        "id": "lsOXZ3NIIz1U"
      },
      "outputs": [],
      "source": [
        "from tensorflow.keras.models import Model\n",
        "from tensorflow.keras.layers import Layer, Softmax"
      ]
    },
    {
      "cell_type": "markdown",
      "metadata": {
        "id": "LAyriViEIz1V"
      },
      "source": [
        "#### Create custom layers"
      ]
    },
    {
      "cell_type": "code",
      "execution_count": 6,
      "metadata": {
        "id": "ff6ViFScIz1X",
        "colab": {
          "base_uri": "https://localhost:8080/"
        },
        "outputId": "fb59e120-774a-4931-ecf7-265cfb2d69b6"
      },
      "outputs": [
        {
          "output_type": "stream",
          "name": "stdout",
          "text": [
            "tf.Tensor([[ 0.02350443 -0.2481657  -0.01994592]], shape=(1, 3), dtype=float32)\n",
            "[<tf.Variable 'Variable:0' shape=(5, 3) dtype=float32, numpy=\n",
            "array([[-0.05554051, -0.11585498, -0.04754759],\n",
            "       [-0.0552285 , -0.04490262,  0.00666336],\n",
            "       [ 0.04303133, -0.01079838,  0.00835545],\n",
            "       [ 0.02483383, -0.03332189,  0.04365022],\n",
            "       [ 0.06640828, -0.04328782, -0.03106737]], dtype=float32)>, <tf.Variable 'Variable:0' shape=(3,) dtype=float32, numpy=array([0., 0., 0.], dtype=float32)>]\n"
          ]
        }
      ],
      "source": [
        "# Create a custom layer\n",
        "\n",
        "class MyLayer(Layer):\n",
        "    \n",
        "    def __init__(self, units, input_dim):\n",
        "        super(MyLayer, self).__init__()\n",
        "        self.w = self.add_weight(shape=(input_dim, units),\n",
        "                                 initializer='random_normal')\n",
        "        self.b = self.add_weight(shape=(units,),\n",
        "                                 initializer='zeros')\n",
        "        \n",
        "    def call(self, inputs):\n",
        "        return tf.matmul(inputs, self.w) + self.b\n",
        "\n",
        "dense_layer = MyLayer(3, 5)\n",
        "x = tf.ones((1, 5))\n",
        "print(dense_layer(x))\n",
        "print(dense_layer.weights)"
      ]
    },
    {
      "cell_type": "code",
      "execution_count": 7,
      "metadata": {
        "id": "kHEcjIwWIz1Z"
      },
      "outputs": [],
      "source": [
        "# Specify trainable weights\n",
        "\n",
        "class MyLayer(Layer):\n",
        "    \n",
        "    def __init__(self, units, input_dim):\n",
        "        super(MyLayer, self).__init__()\n",
        "        self.w = self.add_weight(shape=(input_dim, units),\n",
        "                                 initializer='random_normal', \n",
        "                                 trainable=False)\n",
        "        self.b = self.add_weight(shape=(units,),\n",
        "                                 initializer='zeros', \n",
        "                                 trainable=False)\n",
        "        \n",
        "    def call(self, inputs):\n",
        "        return tf.matmul(inputs, self.w) + self.b\n",
        "\n",
        "dense_layer = MyLayer(3, 5)"
      ]
    },
    {
      "cell_type": "code",
      "execution_count": 8,
      "metadata": {
        "id": "U78-aukFIz1b",
        "colab": {
          "base_uri": "https://localhost:8080/"
        },
        "outputId": "3d15edd7-0580-4d0b-a4ed-8958a1b02a17"
      },
      "outputs": [
        {
          "output_type": "stream",
          "name": "stdout",
          "text": [
            "trainable weights: 0\n",
            "non-trainable weights: 2\n"
          ]
        }
      ],
      "source": [
        "print('trainable weights:', len(dense_layer.trainable_weights))\n",
        "print('non-trainable weights:', len(dense_layer.non_trainable_weights))"
      ]
    },
    {
      "cell_type": "code",
      "execution_count": 9,
      "metadata": {
        "id": "ralo2LmCIz1d"
      },
      "outputs": [],
      "source": [
        "# Create a custom layer to accumulate means of output values\n",
        "\n",
        "class MyLayerMean(Layer):\n",
        "    \n",
        "    def __init__(self, units, input_dim):\n",
        "        super(MyLayerMean, self).__init__()\n",
        "        self.w = self.add_weight(shape=(input_dim, units),\n",
        "                                 initializer='random_normal')\n",
        "        self.b = self.add_weight(shape=(units,),\n",
        "                                 initializer='zeros')\n",
        "        self.sum_activation = tf.Variable(initial_value=tf.zeros((units,)),\n",
        "                                          trainable=False)\n",
        "        self.number_call = tf.Variable(initial_value=0, trainable=False)\n",
        "        \n",
        "    def call(self, inputs):\n",
        "        activations = tf.matmul(inputs, self.w) + self.b\n",
        "        self.sum_activation.assign_add(tf.reduce_sum(activations, axis=0))\n",
        "        self.number_call.assign_add(inputs.shape[0])\n",
        "        return activations, self.sum_activation / tf.cast(self.number_call, \n",
        "                                                          tf.float32)\n",
        "\n",
        "dense_layer = MyLayerMean(3, 5)"
      ]
    },
    {
      "cell_type": "code",
      "execution_count": 10,
      "metadata": {
        "id": "R03SNgnLIz1f",
        "colab": {
          "base_uri": "https://localhost:8080/"
        },
        "outputId": "26c18ce9-27fb-4e0f-faa4-133ae7b8e1fa"
      },
      "outputs": [
        {
          "output_type": "stream",
          "name": "stdout",
          "text": [
            "[-0.00074412  0.02828513  0.0383731 ]\n"
          ]
        }
      ],
      "source": [
        "# Test the layer\n",
        "\n",
        "y, activation_means = dense_layer(tf.ones((1, 5)))\n",
        "print(activation_means.numpy())"
      ]
    },
    {
      "cell_type": "code",
      "execution_count": 11,
      "metadata": {
        "id": "Ddtlw-fTIz1g"
      },
      "outputs": [],
      "source": [
        "# Create a Dropout layer as a custom layer\n",
        "\n",
        "class MyDropout(Layer):\n",
        "\n",
        "    def __init__(self, rate):\n",
        "        super(MyDropout, self).__init__()\n",
        "        self.rate = rate\n",
        "        \n",
        "    def call(self, inputs):\n",
        "        # Define forward pass for dropout layer\n",
        "        return tf.nn.dropout(inputs, rate=self.rate)"
      ]
    },
    {
      "cell_type": "markdown",
      "metadata": {
        "id": "mNG5jkqSIz1o"
      },
      "source": [
        "#### Implement the custom layers into a model"
      ]
    },
    {
      "cell_type": "code",
      "execution_count": 12,
      "metadata": {
        "id": "OpM2JyR4Iz1u"
      },
      "outputs": [],
      "source": [
        "# Build the model using custom layers with the model subclassing API\n",
        "\n",
        "class MyModel(Model):\n",
        "\n",
        "    def __init__(self, units_1, input_dim_1, units_2, units_3):\n",
        "        super(MyModel, self).__init__()\n",
        "        # Define layers\n",
        "        self.layer_1 = MyLayer(units_1, input_dim_1)\n",
        "        self.dropout_1 = MyDropout(0.5)\n",
        "        self.layer_2 = MyLayer(units_2, units_1)\n",
        "        self.dropout_2 = MyDropout(0.5)\n",
        "        self.layer_3 = MyLayer(units_3, units_2)\n",
        "        self.softmax = Softmax()\n",
        "\n",
        "    def call(self, inputs):\n",
        "        # Define forward pass\n",
        "        x = self.layer_1(inputs)\n",
        "        x = tf.nn.relu(x)\n",
        "        x = self.dropout_1(x)\n",
        "        x = self.layer_2(x)\n",
        "        x = tf.nn.relu(x)\n",
        "        x = self.dropout_2(x)\n",
        "        x = self.layer_3(x)\n",
        "\n",
        "        return self.softmax(x)"
      ]
    },
    {
      "cell_type": "code",
      "execution_count": 13,
      "metadata": {
        "id": "NAOoYHsuIz1z",
        "colab": {
          "base_uri": "https://localhost:8080/"
        },
        "outputId": "3d79c238-aa37-4bdd-b52d-1869c0bd95fe"
      },
      "outputs": [
        {
          "output_type": "stream",
          "name": "stdout",
          "text": [
            "tf.Tensor(\n",
            "[[0.00309261 0.01256709 0.00256739 0.00934587 0.02214667 0.03132077\n",
            "  0.01128878 0.08907445 0.00496728 0.01891283 0.01377243 0.00361445\n",
            "  0.20255263 0.01257795 0.00675344 0.02340799 0.02195336 0.00786967\n",
            "  0.00890051 0.03160967 0.01532513 0.01941833 0.00898733 0.01922696\n",
            "  0.01402073 0.0114883  0.00605886 0.03707933 0.00451123 0.02319548\n",
            "  0.03400937 0.0374913  0.02159299 0.00505965 0.01435334 0.01366498\n",
            "  0.01103705 0.00874706 0.06346496 0.00584932 0.01982963 0.04060036\n",
            "  0.009212   0.00374935 0.01010573 0.00362544]], shape=(1, 46), dtype=float32)\n",
            "Model: \"my_model_1\"\n",
            "_________________________________________________________________\n",
            " Layer (type)                Output Shape              Param #   \n",
            "=================================================================\n",
            " my_layer_2 (MyLayer)        multiple                  640064    \n",
            "                                                                 \n",
            " my_dropout (MyDropout)      multiple                  0         \n",
            "                                                                 \n",
            " my_layer_3 (MyLayer)        multiple                  4160      \n",
            "                                                                 \n",
            " my_dropout_1 (MyDropout)    multiple                  0         \n",
            "                                                                 \n",
            " my_layer_4 (MyLayer)        multiple                  2990      \n",
            "                                                                 \n",
            " softmax_1 (Softmax)         multiple                  0         \n",
            "                                                                 \n",
            "=================================================================\n",
            "Total params: 647,214\n",
            "Trainable params: 0\n",
            "Non-trainable params: 647,214\n",
            "_________________________________________________________________\n"
          ]
        }
      ],
      "source": [
        "# Instantiate a model object\n",
        "\n",
        "model = MyModel(64,10000,64,46)\n",
        "print(model(tf.ones((1, 10000))))\n",
        "model.summary()"
      ]
    },
    {
      "cell_type": "markdown",
      "metadata": {
        "id": "o9VB3AolIz11"
      },
      "source": [
        "***\n",
        "<a id=\"coding_tutorial_3\"></a>\n",
        "## Automatic differentiation"
      ]
    },
    {
      "cell_type": "code",
      "execution_count": 14,
      "metadata": {
        "id": "csRjASbyIz18"
      },
      "outputs": [],
      "source": [
        "import numpy as np\n",
        "import matplotlib.pyplot as plt"
      ]
    },
    {
      "cell_type": "markdown",
      "metadata": {
        "id": "ztlMJaMqIz1-"
      },
      "source": [
        "#### Create synthetic data"
      ]
    },
    {
      "cell_type": "code",
      "execution_count": 15,
      "metadata": {
        "id": "0If1aik6Iz2A",
        "colab": {
          "base_uri": "https://localhost:8080/",
          "height": 284
        },
        "outputId": "ccdb8097-237e-404c-df75-074b923a14d7"
      },
      "outputs": [
        {
          "output_type": "execute_result",
          "data": {
            "text/plain": [
              "[<matplotlib.lines.Line2D at 0x7ff0ace2f550>]"
            ]
          },
          "metadata": {},
          "execution_count": 15
        },
        {
          "output_type": "display_data",
          "data": {
            "image/png": "[encoded data removed]",
            "text/plain": [
              "<Figure size 432x288 with 1 Axes>"
            ]
          },
          "metadata": {
            "needs_background": "light"
          }
        }
      ],
      "source": [
        "# Create data from a noise contaminated linear model\n",
        "\n",
        "def MakeNoisyData(m, b, n=20):\n",
        "    x = tf.random.uniform(shape=(n,))\n",
        "    noise = tf.random.normal(shape=(len(x),), stddev=0.1)\n",
        "    y = m * x + b + noise\n",
        "    return x, y\n",
        "\n",
        "m=1\n",
        "b=2\n",
        "x_train, y_train = MakeNoisyData(m,b)\n",
        "plt.plot(x_train, y_train, 'b.')"
      ]
    },
    {
      "cell_type": "markdown",
      "metadata": {
        "id": "w2Yz-gGtIz2K"
      },
      "source": [
        "#### Define a linear regression model"
      ]
    },
    {
      "cell_type": "code",
      "execution_count": 16,
      "metadata": {
        "id": "cCg80FbQIz2W"
      },
      "outputs": [],
      "source": [
        "from tensorflow.keras.layers import Layer"
      ]
    },
    {
      "cell_type": "code",
      "execution_count": 17,
      "metadata": {
        "id": "HVedF91KIz2Y",
        "colab": {
          "base_uri": "https://localhost:8080/"
        },
        "outputId": "5435e598-86bb-46f7-f636-62f91e67e895"
      },
      "outputs": [
        {
          "output_type": "stream",
          "name": "stdout",
          "text": [
            "tf.Tensor(\n",
            "[0.00605805 0.01059242 0.0059407  0.00714782 0.00294441 0.01091853\n",
            " 0.01172019 0.00337166 0.0081084  0.00734826 0.0070991  0.01274478\n",
            " 0.01409997 0.0099054  0.01087454 0.0104154  0.00077793 0.00176799\n",
            " 0.00686396 0.00316798], shape=(20,), dtype=float32)\n",
            "[<tf.Variable 'Variable:0' shape=(1,) dtype=float32, numpy=array([0.01538645], dtype=float32)>, <tf.Variable 'Variable:0' shape=(1,) dtype=float32, numpy=array([0.], dtype=float32)>]\n"
          ]
        }
      ],
      "source": [
        "# Build a custom layer for the linear regression model\n",
        "\n",
        "class LinearLayer(Layer):\n",
        "    \n",
        "    def __init__(self):\n",
        "        super(LinearLayer, self).__init__()\n",
        "        self.m = self.add_weight(shape=(1,), initializer='random_normal')\n",
        "        self.b = self.add_weight(shape=(1,), initializer='zeros')\n",
        "        \n",
        "    def call(self, inputs):\n",
        "        return self.m * inputs + self.b\n",
        "\n",
        "linear_regression = LinearLayer()\n",
        "\n",
        "print(linear_regression(x_train))\n",
        "print(linear_regression.weights)"
      ]
    },
    {
      "cell_type": "markdown",
      "metadata": {
        "id": "Znd7M4WZIz2Z"
      },
      "source": [
        "#### Define the loss function"
      ]
    },
    {
      "cell_type": "code",
      "execution_count": 18,
      "metadata": {
        "id": "VhHx0YVdIz2a",
        "colab": {
          "base_uri": "https://localhost:8080/"
        },
        "outputId": "7d51c971-10a8-4b2e-903e-1ee36999c4d0"
      },
      "outputs": [
        {
          "output_type": "stream",
          "name": "stdout",
          "text": [
            "Starting loss 6.255268\n"
          ]
        }
      ],
      "source": [
        "# Define the mean squared error loss function\n",
        "\n",
        "def SquaredError(y_pred, y_true):\n",
        "    return tf.reduce_mean(tf.square(y_pred - y_true)) \n",
        "\n",
        "starting_loss = SquaredError(linear_regression(x_train), y_train)\n",
        "print(\"Starting loss\", starting_loss.numpy())"
      ]
    },
    {
      "cell_type": "markdown",
      "metadata": {
        "id": "kgMGRK3ZIz2a"
      },
      "source": [
        "#### Train and plot the model"
      ]
    },
    {
      "cell_type": "code",
      "execution_count": 19,
      "metadata": {
        "id": "W3JwlMWjIz2b",
        "colab": {
          "base_uri": "https://localhost:8080/"
        },
        "outputId": "7fbd524b-af50-45cf-c867-02c63f3151a0"
      },
      "outputs": [
        {
          "output_type": "stream",
          "name": "stdout",
          "text": [
            "Step 0, Loss 6.255268\n",
            "Step 1, Loss 4.784369\n",
            "Step 2, Loss 3.659602\n",
            "Step 3, Loss 2.799514\n",
            "Step 4, Loss 2.141823\n",
            "Step 5, Loss 1.638899\n",
            "Step 6, Loss 1.254323\n",
            "Step 7, Loss 0.960245\n",
            "Step 8, Loss 0.735369\n",
            "Step 9, Loss 0.563410\n",
            "Step 10, Loss 0.431916\n",
            "Step 11, Loss 0.331365\n",
            "Step 12, Loss 0.254476\n",
            "Step 13, Loss 0.195679\n",
            "Step 14, Loss 0.150718\n",
            "Step 15, Loss 0.116337\n",
            "Step 16, Loss 0.090046\n",
            "Step 17, Loss 0.069941\n",
            "Step 18, Loss 0.054567\n",
            "Step 19, Loss 0.042810\n",
            "Step 20, Loss 0.033819\n",
            "Step 21, Loss 0.026944\n",
            "Step 22, Loss 0.021686\n",
            "Step 23, Loss 0.017665\n",
            "Step 24, Loss 0.014590\n"
          ]
        }
      ],
      "source": [
        "# Implement a gradient descent training loop for the linear regression model\n",
        "\n",
        "learning_rate = 0.05\n",
        "steps = 25\n",
        "\n",
        "for i in range(steps):\n",
        "\n",
        "    with tf.GradientTape() as tape:\n",
        "        predictions = linear_regression(x_train)\n",
        "        loss = SquaredError(predictions, y_train)\n",
        "\n",
        "    gradients = tape.gradient(loss, linear_regression.trainable_variables)\n",
        "\n",
        "    linear_regression.m.assign_sub(learning_rate * gradients[0])\n",
        "    linear_regression.b.assign_sub(learning_rate * gradients[1])\n",
        "\n",
        "    print('Step %d, Loss %f' % (i, loss.numpy()))"
      ]
    },
    {
      "cell_type": "code",
      "execution_count": 20,
      "metadata": {
        "id": "CvB1bhCpIz2c",
        "colab": {
          "base_uri": "https://localhost:8080/",
          "height": 321
        },
        "outputId": "3335c9c0-6160-4066-fe39-9603e5395beb"
      },
      "outputs": [
        {
          "output_type": "stream",
          "name": "stdout",
          "text": [
            "m:1,  trained m:[1.0123588]\n",
            "b:2,  trained b:[1.9086894]\n"
          ]
        },
        {
          "output_type": "execute_result",
          "data": {
            "text/plain": [
              "[<matplotlib.lines.Line2D at 0x7ff0ac92ac50>]"
            ]
          },
          "metadata": {},
          "execution_count": 20
        },
        {
          "output_type": "display_data",
          "data": {
            "image/png": "[encoded data removed]",
            "text/plain": [
              "<Figure size 432x288 with 1 Axes>"
            ]
          },
          "metadata": {
            "needs_background": "light"
          }
        }
      ],
      "source": [
        "# Plot the learned regression model\n",
        "\n",
        "print(\"m:{},  trained m:{}\".format(m,linear_regression.m.numpy()))\n",
        "print(\"b:{},  trained b:{}\".format(b,linear_regression.b.numpy()))\n",
        "\n",
        "plt.plot(x_train, y_train, 'b.')\n",
        "\n",
        "x_linear_regression=np.linspace(min(x_train), max(x_train),50)\n",
        "plt.plot(x_linear_regression, linear_regression.m*x_linear_regression+linear_regression.b, 'r.')"
      ]
    },
    {
      "cell_type": "markdown",
      "metadata": {
        "id": "3RbKAjPvIz2d"
      },
      "source": [
        "***\n",
        "<a id=\"coding_tutorial_4\"></a>\n",
        "## Custom training loops"
      ]
    },
    {
      "cell_type": "code",
      "execution_count": 21,
      "metadata": {
        "id": "pVuXiRSaIz2e"
      },
      "outputs": [],
      "source": [
        "import numpy as np\n",
        "import matplotlib.pyplot as plt\n",
        "import time"
      ]
    },
    {
      "cell_type": "markdown",
      "metadata": {
        "id": "H83e_X_DIz2f"
      },
      "source": [
        "#### Build the model"
      ]
    },
    {
      "cell_type": "code",
      "execution_count": 22,
      "metadata": {
        "id": "VbOdVDtxIz2g"
      },
      "outputs": [],
      "source": [
        "from tensorflow.keras.models import Model\n",
        "from tensorflow.keras.layers import Layer, Softmax"
      ]
    },
    {
      "cell_type": "code",
      "execution_count": 23,
      "metadata": {
        "id": "hlZ0CV6lIz2h"
      },
      "outputs": [],
      "source": [
        "# Define the custom layers and model\n",
        "\n",
        "class MyLayer(Layer):\n",
        "    \n",
        "    def __init__(self, units):\n",
        "        super(MyLayer, self).__init__()\n",
        "        self.units = units\n",
        "\n",
        "    def build(self, input_shape):\n",
        "        self.w = self.add_weight(shape=(input_shape[-1], self.units),\n",
        "                                 initializer='random_normal',\n",
        "                                 name = 'kernes')\n",
        "        self.b = self.add_weight(shape=(self.units,),\n",
        "                                 initializer='zeros',\n",
        "                                 name = 'bias')\n",
        "        \n",
        "    def call(self, inputs):\n",
        "        return tf.matmul(inputs, self.w) + self.b\n",
        "\n",
        "class MyDropout(Layer):\n",
        "\n",
        "    def __init__(self, rate):\n",
        "        super(MyDropout, self).__init__()\n",
        "        self.rate = rate\n",
        "        \n",
        "    def call(self, inputs):\n",
        "        # Define forward pass for dropout layer\n",
        "        return tf.nn.dropout(inputs, rate=self.rate)\n",
        "\n",
        "class MyModel(Model):\n",
        "\n",
        "    def __init__(self, units_1, units_2, units_3):\n",
        "        super(MyModel, self).__init__()\n",
        "        # Define layers\n",
        "        self.layer_1 = MyLayer(units_1)\n",
        "        self.dropout_1 = MyDropout(0.5)\n",
        "        self.layer_2 = MyLayer(units_2)\n",
        "        self.dropout_2 = MyDropout(0.5)\n",
        "        self.layer_3 = MyLayer(units_3)\n",
        "        self.softmax = Softmax()\n",
        "\n",
        "    def call(self, inputs):\n",
        "        # Define forward pass\n",
        "        x = self.layer_1(inputs)\n",
        "        x = tf.nn.relu(x)\n",
        "        x = self.dropout_1(x)\n",
        "        x = self.layer_2(x)\n",
        "        x = tf.nn.relu(x)\n",
        "        x = self.dropout_2(x)\n",
        "        x = self.layer_3(x)\n",
        "\n",
        "        return self.softmax(x)"
      ]
    },
    {
      "cell_type": "code",
      "source": [
        "# Instantiate the model object\n",
        "\n",
        "model = MyModel(64, 64, 46)\n",
        "print(model(tf.ones((1, 10000))))\n",
        "model.summary()"
      ],
      "metadata": {
        "colab": {
          "base_uri": "https://localhost:8080/"
        },
        "id": "HrPAkhbcBHCu",
        "outputId": "6fd3385b-d4a4-49c2-b77f-3c780b04811c"
      },
      "execution_count": 24,
      "outputs": [
        {
          "output_type": "stream",
          "name": "stdout",
          "text": [
            "tf.Tensor(\n",
            "[[0.00397622 0.06561863 0.04722309 0.04728036 0.03630537 0.00950535\n",
            "  0.02191568 0.01182794 0.03255724 0.03556307 0.02633502 0.01005242\n",
            "  0.0144668  0.01288054 0.00682697 0.00878866 0.02039418 0.03017578\n",
            "  0.00718036 0.01724422 0.00280449 0.01504062 0.03834011 0.01693409\n",
            "  0.0038401  0.01623616 0.00306672 0.00382206 0.01025835 0.030242\n",
            "  0.01578755 0.04252118 0.04773693 0.00971712 0.00711935 0.01129988\n",
            "  0.05975848 0.01008177 0.03228837 0.00881804 0.01202252 0.00440024\n",
            "  0.0190509  0.01434716 0.05111387 0.04723402]], shape=(1, 46), dtype=float32)\n",
            "Model: \"my_model_2\"\n",
            "_________________________________________________________________\n",
            " Layer (type)                Output Shape              Param #   \n",
            "=================================================================\n",
            " my_layer_5 (MyLayer)        multiple                  640064    \n",
            "                                                                 \n",
            " my_dropout_2 (MyDropout)    multiple                  0         \n",
            "                                                                 \n",
            " my_layer_6 (MyLayer)        multiple                  4160      \n",
            "                                                                 \n",
            " my_dropout_3 (MyDropout)    multiple                  0         \n",
            "                                                                 \n",
            " my_layer_7 (MyLayer)        multiple                  2990      \n",
            "                                                                 \n",
            " softmax_2 (Softmax)         multiple                  0         \n",
            "                                                                 \n",
            "=================================================================\n",
            "Total params: 647,214\n",
            "Trainable params: 647,214\n",
            "Non-trainable params: 0\n",
            "_________________________________________________________________\n"
          ]
        }
      ]
    },
    {
      "cell_type": "markdown",
      "metadata": {
        "id": "iR9L6LNmIz2i"
      },
      "source": [
        "#### Load the reuters dataset and define the class_names "
      ]
    },
    {
      "cell_type": "code",
      "execution_count": 25,
      "metadata": {
        "id": "9rScR6vEIz2j",
        "colab": {
          "base_uri": "https://localhost:8080/"
        },
        "outputId": "dc3bc1ef-6033-4fcd-9829-8dc083e4ad43"
      },
      "outputs": [
        {
          "output_type": "stream",
          "name": "stdout",
          "text": [
            "Downloading data from https://storage.googleapis.com/tensorflow/tf-keras-datasets/reuters.npz\n",
            "2113536/2110848 [==============================] - 0s 0us/step\n",
            "2121728/2110848 [==============================] - 0s 0us/step\n"
          ]
        }
      ],
      "source": [
        "# Load the dataset\n",
        "\n",
        "from tensorflow.keras.datasets import reuters\n",
        "\n",
        "(train_data, train_labels), (test_data, test_labels) = reuters.load_data(num_words=10000)\n",
        "\n",
        "class_names = ['cocoa','grain','veg-oil','earn','acq','wheat','copper','housing','money-supply',\n",
        "   'coffee','sugar','trade','reserves','ship','cotton','carcass','crude','nat-gas',\n",
        "   'cpi','money-fx','interest','gnp','meal-feed','alum','oilseed','gold','tin',\n",
        "   'strategic-metal','livestock','retail','ipi','iron-steel','rubber','heat','jobs',\n",
        "   'lei','bop','zinc','orange','pet-chem','dlr','gas','silver','wpi','hog','lead']"
      ]
    },
    {
      "cell_type": "code",
      "execution_count": 26,
      "metadata": {
        "id": "XYu3MKiUIz2k",
        "colab": {
          "base_uri": "https://localhost:8080/"
        },
        "outputId": "6d02a4f5-e4d3-4dd5-dd42-9596dac8d946"
      },
      "outputs": [
        {
          "output_type": "stream",
          "name": "stdout",
          "text": [
            "Label: earn\n"
          ]
        }
      ],
      "source": [
        "# Print the class of the first sample\n",
        "\n",
        "print(\"Label: {}\".format(class_names[train_labels[0]]))"
      ]
    },
    {
      "cell_type": "markdown",
      "metadata": {
        "id": "_6zKZ1PTIz2m"
      },
      "source": [
        "#### Get the dataset word index"
      ]
    },
    {
      "cell_type": "code",
      "execution_count": 27,
      "metadata": {
        "id": "-lTjuHmRIz2n",
        "colab": {
          "base_uri": "https://localhost:8080/"
        },
        "outputId": "1e46460c-ead5-4c08-ce8c-9a5176b5c671"
      },
      "outputs": [
        {
          "output_type": "stream",
          "name": "stdout",
          "text": [
            "Downloading data from https://storage.googleapis.com/tensorflow/tf-keras-datasets/reuters_word_index.json\n",
            "557056/550378 [==============================] - 0s 0us/step\n",
            "565248/550378 [==============================] - 0s 0us/step\n"
          ]
        }
      ],
      "source": [
        "# Load the Reuters word index\n",
        "\n",
        "word_to_index = reuters.get_word_index()\n",
        "\n",
        "invert_word_index = dict([(value, key) for (key, value) in word_to_index.items()])\n",
        "text_news = ' '.join([invert_word_index.get(i - 3, '?') for i in train_data[0]])"
      ]
    },
    {
      "cell_type": "code",
      "execution_count": 28,
      "metadata": {
        "id": "b91Dxu1sIz2p",
        "colab": {
          "base_uri": "https://localhost:8080/"
        },
        "outputId": "7e64e784-5081-4d22-a2eb-0013c83553b0"
      },
      "outputs": [
        {
          "output_type": "stream",
          "name": "stdout",
          "text": [
            "? ? ? said as a result of its december acquisition of space co it expects earnings per share in 1987 of 1 15 to 1 30 dlrs per share up from 70 cts in 1986 the company said pretax net should rise to nine to 10 mln dlrs from six mln dlrs in 1986 and rental operation revenues to 19 to 22 mln dlrs from 12 5 mln dlrs it said cash flow per share this year should be 2 50 to three dlrs reuter 3\n"
          ]
        }
      ],
      "source": [
        "# Print the first data example sentence\n",
        "\n",
        "print(text_news)"
      ]
    },
    {
      "cell_type": "markdown",
      "metadata": {
        "id": "JvR1WuegIz2s"
      },
      "source": [
        "#### Preprocess the data"
      ]
    },
    {
      "cell_type": "code",
      "execution_count": 29,
      "metadata": {
        "id": "LpZjEXfDIz2u",
        "colab": {
          "base_uri": "https://localhost:8080/"
        },
        "outputId": "263abcf1-67db-4e99-c716-8320bf1d9d25"
      },
      "outputs": [
        {
          "output_type": "stream",
          "name": "stdout",
          "text": [
            "Shape of x_train: (8982, 10000)\n",
            "Shape of x_test: (2246, 10000)\n"
          ]
        }
      ],
      "source": [
        "# Define a function that encodes the data into a 'bag of words' representation\n",
        "\n",
        "def bag_of_words(text_samples, elements=10000):\n",
        "    output = np.zeros((len(text_samples), elements))\n",
        "    for i, word in enumerate(text_samples):\n",
        "        output[i, word] = 1.\n",
        "    return output\n",
        "\n",
        "x_train = bag_of_words(train_data)\n",
        "x_test = bag_of_words(test_data)\n",
        "\n",
        "print(\"Shape of x_train:\", x_train.shape)\n",
        "print(\"Shape of x_test:\", x_test.shape)"
      ]
    },
    {
      "cell_type": "markdown",
      "metadata": {
        "id": "_3OeBxZUIz2v"
      },
      "source": [
        "#### Define the loss function and optimizer\n",
        "\n"
      ]
    },
    {
      "cell_type": "code",
      "execution_count": 30,
      "metadata": {
        "id": "c6Rt1zCwIz2v"
      },
      "outputs": [],
      "source": [
        "# Define the categorical cross entropy loss and Adam optimizer\n",
        "\n",
        "loss_object = tf.keras.losses.SparseCategoricalCrossentropy()\n",
        "\n",
        "def loss(model, x, y, wd):\n",
        "    kernel_variables = []\n",
        "    for l in model.layers:\n",
        "        for w in l.weights:\n",
        "            if 'kernel' in w.name:\n",
        "                kernel_variables.append(w)\n",
        "    wd_penalty = wd * tf.reduce_sum([tf.reduce_sum(tf.square(k)) for k in kernel_variables])\n",
        "    y_ = model(x)\n",
        "    return loss_object(y_true=y, y_pred=y_) + wd_penalty\n",
        "\n",
        "optimizer = tf.keras.optimizers.Adam(learning_rate=0.001)"
      ]
    },
    {
      "cell_type": "markdown",
      "metadata": {
        "id": "DfzZbRadIz2x"
      },
      "source": [
        "#### Train the model"
      ]
    },
    {
      "cell_type": "code",
      "execution_count": 31,
      "metadata": {
        "id": "e_O8L-m9Iz2y"
      },
      "outputs": [],
      "source": [
        "# Define a function to compute the forward and backward pass\n",
        "\n",
        "def grad(model, inputs, targets, wd):\n",
        "    with tf.GradientTape() as tape:\n",
        "        loss_value = loss(model, inputs, targets, wd)\n",
        "    return loss_value, tape.gradient(loss_value, model.trainable_variables)"
      ]
    },
    {
      "cell_type": "code",
      "execution_count": 32,
      "metadata": {
        "id": "UQUpS9qAIz20",
        "colab": {
          "base_uri": "https://localhost:8080/"
        },
        "outputId": "3a5c2b74-bc03-4f11-b8ab-c51c741d1be4"
      },
      "outputs": [
        {
          "output_type": "stream",
          "name": "stdout",
          "text": [
            "Epoch 000:, Loss: 2.094, Accuracy: 48.285%\n",
            "Epoch 001:, Loss: 1.434, Accuracy: 65.075%\n",
            "Epoch 002:, Loss: 1.199, Accuracy: 70.107%\n",
            "Epoch 003:, Loss: 1.050, Accuracy: 73.224%\n",
            "Epoch 004:, Loss: 0.920, Accuracy: 76.587%\n",
            "Epoch 005:, Loss: 0.852, Accuracy: 78.279%\n",
            "Epoch 006:, Loss: 0.773, Accuracy: 79.036%\n",
            "Epoch 007:, Loss: 0.718, Accuracy: 81.107%\n",
            "Epoch 008:, Loss: 0.670, Accuracy: 81.686%\n",
            "Epoch 009:, Loss: 0.643, Accuracy: 82.543%\n",
            "Duration :105.715\n"
          ]
        }
      ],
      "source": [
        "# Implement the training loop\n",
        "\n",
        "from tensorflow.keras.utils import to_categorical\n",
        "\n",
        "start_time = time.time()\n",
        "\n",
        "train_dataset = tf.data.Dataset.from_tensor_slices((x_train, train_labels))\n",
        "train_dataset = train_dataset.batch(32)\n",
        "\n",
        "#Keep results for plotting\n",
        "train_loss_results = []\n",
        "train_accuracy_results = []\n",
        "\n",
        "num_epochs = 10\n",
        "weight_decay = 0.005\n",
        "\n",
        "for epoch in range(num_epochs):\n",
        "\n",
        "    epoch_loss_avg = tf.keras.metrics.Mean()\n",
        "    epoch_accuracy = tf.keras.metrics.CategoricalAccuracy()\n",
        "\n",
        "    #Training loop\n",
        "    for x, y in train_dataset:\n",
        "        # Optimize the model\n",
        "        loss_value, grads = grad(model, x, y, weight_decay)\n",
        "        optimizer.apply_gradients(zip(grads, model.trainable_variables))\n",
        "\n",
        "        # Compute current loss\n",
        "        epoch_loss_avg(loss_value)\n",
        "        # Compare predicted label to actual label\n",
        "        epoch_accuracy(to_categorical(y), model(x))\n",
        "\n",
        "    # End epoch\n",
        "    train_loss_results.append(epoch_loss_avg.result())\n",
        "    train_accuracy_results.append(epoch_accuracy.result())\n",
        "\n",
        "    print('Epoch {:03d}:, Loss: {:.3f}, Accuracy: {:.3%}'.format(epoch,\n",
        "                                                                 epoch_loss_avg.result(),\n",
        "                                                                 epoch_accuracy.result()))\n",
        "    \n",
        "print(\"Duration :{:.3f}\".format(time.time() - start_time))"
      ]
    },
    {
      "cell_type": "markdown",
      "metadata": {
        "id": "7lREOmnhIz26"
      },
      "source": [
        "#### Evaluate the model"
      ]
    },
    {
      "cell_type": "code",
      "execution_count": 33,
      "metadata": {
        "id": "QfRey_EtIz26"
      },
      "outputs": [],
      "source": [
        "# Create a Dataset object for the test set\n",
        "\n",
        "test_dataset = tf.data.Dataset.from_tensor_slices((x_test, test_labels))\n",
        "test_dataset = test_dataset.batch(32)"
      ]
    },
    {
      "cell_type": "code",
      "execution_count": 34,
      "metadata": {
        "id": "luAEwExyIz28"
      },
      "outputs": [],
      "source": [
        "# Collect average loss and accuracy\n",
        "\n",
        "epoch_loss_avg = tf.keras.metrics.Mean()\n",
        "epoch_accuracy = tf.keras.metrics.CategoricalAccuracy()"
      ]
    },
    {
      "cell_type": "code",
      "execution_count": 35,
      "metadata": {
        "id": "eSEnIKaaIz28",
        "colab": {
          "base_uri": "https://localhost:8080/"
        },
        "outputId": "cac4d2e2-ca8a-410f-c790-2a51cdbc4b98"
      },
      "outputs": [
        {
          "output_type": "stream",
          "name": "stdout",
          "text": [
            "Test loss: 1.367\n",
            "Test accuracy: 71.906%\n"
          ]
        }
      ],
      "source": [
        "# Loop over the test set and print scores\n",
        "\n",
        "from tensorflow.keras.utils import to_categorical\n",
        "\n",
        "for x, y in test_dataset:\n",
        "    # Optimize the model\n",
        "    loss_value = loss(model, x, y, weight_decay)    \n",
        "    # Compute current loss\n",
        "    epoch_loss_avg(loss_value)  \n",
        "    # Compare predicted label to actual label\n",
        "    epoch_accuracy(to_categorical(y), model(x))\n",
        "\n",
        "print(\"Test loss: {:.3f}\".format(epoch_loss_avg.result().numpy()))\n",
        "print(\"Test accuracy: {:.3%}\".format(epoch_accuracy.result().numpy()))"
      ]
    },
    {
      "cell_type": "markdown",
      "metadata": {
        "id": "yJy3F7VwIz29"
      },
      "source": [
        "#### Plot the learning curves"
      ]
    },
    {
      "cell_type": "code",
      "execution_count": 36,
      "metadata": {
        "id": "OazUcWUVIz2-",
        "colab": {
          "base_uri": "https://localhost:8080/",
          "height": 54
        },
        "outputId": "79b0d2ed-a981-4aa7-c37e-97088f62c600"
      },
      "outputs": [
        {
          "output_type": "display_data",
          "data": {
            "image/png": "[encoded data removed]",
            "text/plain": [
              "<Figure size 864x576 with 2 Axes>"
            ]
          },
          "metadata": {
            "needs_background": "light"
          }
        }
      ],
      "source": [
        "# Plot the training loss and accuracy\n",
        "\n",
        "fig, axes = plt.subplots(2, sharex=True, figsize=(12, 8))\n",
        "fig.suptitle('Training Metrics')\n",
        "\n",
        "axes[0].set_ylabel(\"Loss\", fontsize=14)\n",
        "axes[0].plot(train_loss_results)\n",
        "\n",
        "axes[1].set_ylabel(\"Accuracy\", fontsize=14)\n",
        "axes[1].set_xlabel(\"Epoch\", fontsize=14)\n",
        "axes[1].plot(train_accuracy_results)\n",
        "plt.show()"
      ]
    },
    {
      "cell_type": "markdown",
      "metadata": {
        "id": "FK0tI99JIz2_"
      },
      "source": [
        "#### Predict from the model"
      ]
    },
    {
      "cell_type": "code",
      "execution_count": 37,
      "metadata": {
        "id": "76j9f7dfIz3A",
        "colab": {
          "base_uri": "https://localhost:8080/"
        },
        "outputId": "808370b0-69ba-45d6-e94c-e817291947f5"
      },
      "outputs": [
        {
          "output_type": "stream",
          "name": "stdout",
          "text": [
            "Prediction: earn\n",
            "     Label: earn\n"
          ]
        }
      ],
      "source": [
        "# Get the model prediction for an example input\n",
        "\n",
        "predicted_label = np.argmax(model(x_train[np.newaxis,0]),axis=1)[0]\n",
        "print(\"Prediction: {}\".format(class_names[predicted_label]))\n",
        "print(\"     Label: {}\".format(class_names[train_labels[0]]))"
      ]
    },
    {
      "cell_type": "markdown",
      "metadata": {
        "id": "O9K6HmCFIz3B"
      },
      "source": [
        "***\n",
        "<a id=\"coding_tutorial_5\"></a>\n",
        "## tf.function decorator"
      ]
    },
    {
      "cell_type": "code",
      "execution_count": 38,
      "metadata": {
        "id": "h4pgdLL_Iz3C"
      },
      "outputs": [],
      "source": [
        "from tensorflow.keras.models import Model\n",
        "from tensorflow.keras.layers import Layer, Softmax\n",
        "from tensorflow.keras.utils import to_categorical\n",
        "from tensorflow.keras.datasets import reuters\n",
        "import numpy as np\n",
        "import matplotlib.pyplot as plt\n",
        "import time"
      ]
    },
    {
      "cell_type": "markdown",
      "metadata": {
        "id": "UXwLXhUoIz3D"
      },
      "source": [
        "#### Build the model"
      ]
    },
    {
      "cell_type": "code",
      "execution_count": 39,
      "metadata": {
        "id": "jYR7w5JxIz3I"
      },
      "outputs": [],
      "source": [
        "# Initialize a new model\n",
        "\n",
        "model = MyModel(64, 64, 46)"
      ]
    },
    {
      "cell_type": "markdown",
      "metadata": {
        "id": "p2cmgFzOIz3K"
      },
      "source": [
        "#### Redefine the grad function using the @tf.function decorator"
      ]
    },
    {
      "cell_type": "code",
      "execution_count": 40,
      "metadata": {
        "id": "3dZWSuFNIz3K"
      },
      "outputs": [],
      "source": [
        "# Use the @tf.function decorator\n",
        "\n",
        "@tf.function\n",
        "def grad(model, inputs, targets, wd):\n",
        "    with tf.GradientTape() as tape:\n",
        "        loss_value = loss(model, inputs, targets, wd)\n",
        "    return loss_value, tape.gradient(loss_value, model.trainable_variables)"
      ]
    },
    {
      "cell_type": "markdown",
      "metadata": {
        "id": "ErOJcPeNIz3L"
      },
      "source": [
        "#### Train the model"
      ]
    },
    {
      "cell_type": "code",
      "execution_count": 41,
      "metadata": {
        "id": "tFww-QPZIz3M",
        "colab": {
          "base_uri": "https://localhost:8080/"
        },
        "outputId": "2291bf77-360b-48e6-ee11-7ee8ea9516d3"
      },
      "outputs": [
        {
          "output_type": "stream",
          "name": "stdout",
          "text": [
            "Epoch 000:, Loss: 1.753, Accuracy: 58.907%\n",
            "Epoch 001:, Loss: 1.309, Accuracy: 68.281%\n",
            "Epoch 002:, Loss: 1.140, Accuracy: 72.289%\n",
            "Epoch 003:, Loss: 1.016, Accuracy: 74.649%\n",
            "Epoch 004:, Loss: 0.930, Accuracy: 75.885%\n",
            "Epoch 005:, Loss: 0.857, Accuracy: 77.410%\n",
            "Epoch 006:, Loss: 0.798, Accuracy: 78.457%\n",
            "Epoch 007:, Loss: 0.755, Accuracy: 80.016%\n",
            "Epoch 008:, Loss: 0.712, Accuracy: 80.283%\n",
            "Epoch 009:, Loss: 0.689, Accuracy: 80.973%\n",
            "Duration :91.901\n"
          ]
        }
      ],
      "source": [
        "# Re-run the training loop\n",
        "\n",
        "from tensorflow.keras.utils import to_categorical\n",
        "\n",
        "start_time = time.time()\n",
        "\n",
        "train_dataset = tf.data.Dataset.from_tensor_slices((x_train, train_labels))\n",
        "train_dataset = train_dataset.batch(32)\n",
        "\n",
        "#Keep results for plotting\n",
        "train_loss_results = []\n",
        "train_accuracy_results = []\n",
        "\n",
        "num_epochs = 10\n",
        "weight_decay = 0.005\n",
        "\n",
        "for epoch in range(num_epochs):\n",
        "\n",
        "    epoch_loss_avg = tf.keras.metrics.Mean()\n",
        "    epoch_accuracy = tf.keras.metrics.CategoricalAccuracy()\n",
        "\n",
        "    #Training loop\n",
        "    for x, y in train_dataset:\n",
        "        # Optimize the model\n",
        "        loss_value, grads = grad(model, x, y, weight_decay)\n",
        "        optimizer.apply_gradients(zip(grads, model.trainable_variables))\n",
        "\n",
        "        # Compute current loss\n",
        "        epoch_loss_avg(loss_value)\n",
        "        # Compare predicted label to actual label\n",
        "        epoch_accuracy(to_categorical(y), model(x))\n",
        "\n",
        "    # End epoch\n",
        "    train_loss_results.append(epoch_loss_avg.result())\n",
        "    train_accuracy_results.append(epoch_accuracy.result())\n",
        "\n",
        "    print('Epoch {:03d}:, Loss: {:.3f}, Accuracy: {:.3%}'.format(epoch,\n",
        "                                                                 epoch_loss_avg.result(),\n",
        "                                                                 epoch_accuracy.result()))\n",
        "    \n",
        "print(\"Duration :{:.3f}\".format(time.time() - start_time))"
      ]
    },
    {
      "cell_type": "markdown",
      "metadata": {
        "id": "0L9ZokkIIz3N"
      },
      "source": [
        "#### Print the autograph code"
      ]
    },
    {
      "cell_type": "code",
      "execution_count": 42,
      "metadata": {
        "id": "gm4o9IyTIz3O",
        "colab": {
          "base_uri": "https://localhost:8080/"
        },
        "outputId": "ef684277-08e1-4532-ecec-83d4217fa395"
      },
      "outputs": [
        {
          "output_type": "stream",
          "name": "stdout",
          "text": [
            "def tf__grad(model, inputs, targets, wd):\n",
            "    with ag__.FunctionScope('grad', 'fscope', ag__.ConversionOptions(recursive=True, user_requested=True, optional_features=(), internal_convert_user_code=True)) as fscope:\n",
            "        do_return = False\n",
            "        retval_ = ag__.UndefinedReturnValue()\n",
            "        with ag__.ld(tf).GradientTape() as tape:\n",
            "            loss_value = ag__.converted_call(ag__.ld(loss), (ag__.ld(model), ag__.ld(inputs), ag__.ld(targets), ag__.ld(wd)), None, fscope)\n",
            "        try:\n",
            "            do_return = True\n",
            "            retval_ = (ag__.ld(loss_value), ag__.converted_call(ag__.ld(tape).gradient, (ag__.ld(loss_value), ag__.ld(model).trainable_variables), None, fscope))\n",
            "        except:\n",
            "            do_return = False\n",
            "            raise\n",
            "        return fscope.ret(retval_, do_return)\n",
            "\n"
          ]
        }
      ],
      "source": [
        "# Use tf.autograph.to_code to see the generated code\n",
        "\n",
        "print(tf.autograph.to_code(grad.python_function))"
      ]
    },
    {
      "cell_type": "code",
      "source": [
        ""
      ],
      "metadata": {
        "id": "elseLfntRs0M"
      },
      "execution_count": 42,
      "outputs": []
    }
  ],
  "metadata": {
    "kernelspec": {
      "display_name": "Python 3",
      "language": "python",
      "name": "python3"
    },
    "language_info": {
      "codemirror_mode": {
        "name": "ipython",
        "version": 3
      },
      "file_extension": ".py",
      "mimetype": "text/x-python",
      "name": "python",
      "nbconvert_exporter": "python",
      "pygments_lexer": "ipython3",
      "version": "3.7.1"
    },
    "colab": {
      "name": "2_4_Model subclassing and custom training loops",
      "provenance": [],
      "collapsed_sections": [
        "SuuYfZiDIz1I",
        "nkH3RqwBIz1S",
        "o9VB3AolIz11"
      ]
    }
  },
  "nbformat": 4,
  "nbformat_minor": 0
}