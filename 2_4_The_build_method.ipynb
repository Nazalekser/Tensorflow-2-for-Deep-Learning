{
 "cells": [
  {
   "cell_type": "markdown",
   "metadata": {
    "id": "MSaErlUTmEzz"
   },
   "source": [
    "# Flexible input shapes for custom layers\n",
    "In this reading you will learn how to use the build method to allow custom layers to work with flexible sized inputs."
   ]
  },
  {
   "cell_type": "code",
   "execution_count": 1,
   "metadata": {
    "colab": {
     "base_uri": "https://localhost:8080/"
    },
    "id": "nJQvKvRxs97n",
    "outputId": "926945c1-dc34-4fe2-beeb-c1711765376f"
   },
   "outputs": [
    {
     "name": "stdout",
     "output_type": "stream",
     "text": [
      "Mounted at /content/drive\n"
     ]
    }
   ],
   "source": [
    "from google.colab import drive\n",
    "drive.mount('/content/drive')"
   ]
  },
  {
   "cell_type": "code",
   "execution_count": 2,
   "metadata": {
    "colab": {
     "base_uri": "https://localhost:8080/"
    },
    "id": "far96arJmEz1",
    "outputId": "6e86f2da-cf42-48f0-f7c3-37f662101dcb"
   },
   "outputs": [
    {
     "name": "stdout",
     "output_type": "stream",
     "text": [
      "2.7.0\n"
     ]
    }
   ],
   "source": [
    "import tensorflow as tf\n",
    "print(tf.__version__)"
   ]
  },
  {
   "cell_type": "markdown",
   "metadata": {
    "id": "SnHNjvPWmEz3"
   },
   "source": [
    "## Fix the input shape in the custom layer"
   ]
  },
  {
   "cell_type": "markdown",
   "metadata": {
    "id": "CdP-A--9mEz4"
   },
   "source": [
    "Previously, you have created custom layers by initialising all variables in the `__init__` method. For instance, you defined a dense layer called `MyLayer` as follows:"
   ]
  },
  {
   "cell_type": "code",
   "execution_count": 3,
   "metadata": {
    "id": "Ofii-nUdmEz5"
   },
   "outputs": [],
   "source": [
    "# Create a custom layer\n",
    "\n",
    "from tensorflow.keras.layers import Layer\n",
    "\n",
    "class MyLayer(Layer):\n",
    "\n",
    "    def __init__(self, units, input_dim, **kwargs):\n",
    "        super(MyLayer, self).__init__(**kwargs)\n",
    "        self.w = self.add_weight(shape=(input_dim, units),\n",
    "                             initializer='random_normal')\n",
    "        self.b = self.add_weight(shape=(units,),\n",
    "                             initializer='zeros')\n",
    "        \n",
    "    def call(self, inputs):\n",
    "        return tf.matmul(inputs, self.w)+self.b"
   ]
  },
  {
   "cell_type": "markdown",
   "metadata": {
    "id": "bGu8-ivgmEz6"
   },
   "source": [
    "Notice that the required arguments for the `__init__` method are the number of units in the dense layer (`units`) and the input size (`input_dim`). This means that you need to fix these two arguments when you instantiate the layer."
   ]
  },
  {
   "cell_type": "code",
   "execution_count": 4,
   "metadata": {
    "id": "pii0ZuvHmEz7"
   },
   "outputs": [],
   "source": [
    "#  Create a custom layer with 3 units and input dimension of 5\n",
    "\n",
    "dense_layer = MyLayer(3, 5) "
   ]
  },
  {
   "cell_type": "markdown",
   "metadata": {
    "id": "eM-5ezoamEz8"
   },
   "source": [
    "Since the input size has been fixed to be 5, this custom layer can only take inputs of that size. For example, we can call the layer as follows:"
   ]
  },
  {
   "cell_type": "code",
   "execution_count": 5,
   "metadata": {
    "colab": {
     "base_uri": "https://localhost:8080/"
    },
    "id": "sUiZIr6dmEz9",
    "outputId": "0519eca9-38c0-4e52-9b25-8d7931ad1c12"
   },
   "outputs": [
    {
     "name": "stdout",
     "output_type": "stream",
     "text": [
      "tf.Tensor([[0.11249433 0.09406015 0.03216359]], shape=(1, 3), dtype=float32)\n"
     ]
    }
   ],
   "source": [
    "# Call the custom layer on a Tensor input of ones\n",
    "\n",
    "x = tf.ones((1,5))\n",
    "print(dense_layer(x))"
   ]
  },
  {
   "cell_type": "markdown",
   "metadata": {
    "id": "CBcDTpaomEz-"
   },
   "source": [
    "However, forcing the input shape (and therefore the shape of the weights) to be fixed when the layer is instantiated is unnecessary, and it may be more convenient to only do this later on, after the model has been defined. \n",
    "\n",
    "For example, in some cases you may not know the input shape at the model building time. We have come across this concept before when building models with the Sequential API. If the `input_shape` argument is omitted, the weights will only be created when an input is passed into the model."
   ]
  },
  {
   "cell_type": "markdown",
   "metadata": {
    "id": "37LKiaIFmEz-"
   },
   "source": [
    "## Allow a flexible input shape in the custom layer"
   ]
  },
  {
   "cell_type": "markdown",
   "metadata": {
    "id": "Oxiz9J90mEz_"
   },
   "source": [
    "You can delay the weight creation by using the `build` method to define the weights. The `build` method is executed when the `__call__` method is called, meaning the weights are only created only the layer is called with a specific input.\n",
    "\n",
    "The `build` method has a required argument `input_shape`, which can be used to define the shapes of the layer weights."
   ]
  },
  {
   "cell_type": "code",
   "execution_count": 6,
   "metadata": {
    "id": "aoFqwbm-mE0A"
   },
   "outputs": [],
   "source": [
    "# Rewrite the custom layer with lazy weight creation\n",
    "\n",
    "class MyLayer(Layer):\n",
    "\n",
    "    def __init__(self, units, **kwargs):\n",
    "        super(MyLayer, self).__init__(**kwargs)\n",
    "        self.units = units\n",
    "    \n",
    "    def build(self, input_shape):\n",
    "        self.w = self.add_weight(shape=(input_shape[-1], self.units),\n",
    "                                 initializer='random_normal')\n",
    "        self.b = self.add_weight(shape=(self.units,),\n",
    "                                 initializer='zeros')\n",
    "    def call(self, inputs):\n",
    "        return tf.matmul(inputs, self.w)+self.b"
   ]
  },
  {
   "cell_type": "markdown",
   "metadata": {
    "id": "ovH346MEmE0A"
   },
   "source": [
    "Now, when you instantiate the layer, you only need to specify the number of units in the dense layer (`units`), and not the input size (`input_dim`)."
   ]
  },
  {
   "cell_type": "markdown",
   "metadata": {
    "id": "TEsz82URmE0B"
   },
   "source": [
    "### Create a custom layer with flexible input size"
   ]
  },
  {
   "cell_type": "code",
   "execution_count": 7,
   "metadata": {
    "id": "Pg8H7rHRmE0B"
   },
   "outputs": [],
   "source": [
    "#  Create a custom layer with 3 units\n",
    "\n",
    "dense_layer = MyLayer(3) "
   ]
  },
  {
   "cell_type": "markdown",
   "metadata": {
    "id": "NZt9uhTbmE0B"
   },
   "source": [
    "This layer can now be called on an input of any size, at which point the layer weights will be created and the input size will be fixed."
   ]
  },
  {
   "cell_type": "code",
   "execution_count": 8,
   "metadata": {
    "colab": {
     "base_uri": "https://localhost:8080/"
    },
    "id": "AB6T76DlmE0C",
    "outputId": "68f7cfdc-b75d-4667-f9f4-0010f587d454"
   },
   "outputs": [
    {
     "name": "stdout",
     "output_type": "stream",
     "text": [
      "tf.Tensor([[ 0.07978725 -0.02925811 -0.11961011]], shape=(1, 3), dtype=float32)\n"
     ]
    }
   ],
   "source": [
    "# Call the custom layer on a Tensor input of ones of size 5\n",
    "\n",
    "x = tf.ones((1,5))\n",
    "print(dense_layer(x))"
   ]
  },
  {
   "cell_type": "code",
   "execution_count": 9,
   "metadata": {
    "colab": {
     "base_uri": "https://localhost:8080/"
    },
    "id": "TAEoJxRpmE0C",
    "outputId": "44606e9b-36b4-4811-fb56-3a7881d31eba"
   },
   "outputs": [
    {
     "data": {
      "text/plain": [
       "[<tf.Variable 'my_layer_1/Variable:0' shape=(5, 3) dtype=float32, numpy=\n",
       " array([[ 0.08915718, -0.09343695,  0.00051565],\n",
       "        [ 0.07601035,  0.00046534, -0.00514645],\n",
       "        [-0.0121162 ,  0.08375313, -0.01934797],\n",
       "        [-0.08039503, -0.01739636, -0.09737026],\n",
       "        [ 0.00713095, -0.00264328,  0.00173893]], dtype=float32)>,\n",
       " <tf.Variable 'my_layer_1/Variable:0' shape=(3,) dtype=float32, numpy=array([0., 0., 0.], dtype=float32)>]"
      ]
     },
     "execution_count": 9,
     "metadata": {},
     "output_type": "execute_result"
    }
   ],
   "source": [
    "# Print the layer weights\n",
    "\n",
    "dense_layer.weights"
   ]
  },
  {
   "cell_type": "markdown",
   "metadata": {
    "id": "2ztkC7samE0C"
   },
   "source": [
    "### Create a new custom layer and pass in a different sized input"
   ]
  },
  {
   "cell_type": "code",
   "execution_count": 10,
   "metadata": {
    "id": "6Ex08eBHmE0E"
   },
   "outputs": [],
   "source": [
    "#  Create a new custom layer with 3 units\n",
    "\n",
    "dense_layer = MyLayer(3) "
   ]
  },
  {
   "cell_type": "code",
   "execution_count": 11,
   "metadata": {
    "colab": {
     "base_uri": "https://localhost:8080/"
    },
    "id": "hJeJ8js_mE0E",
    "outputId": "eef7c69f-d9e6-4089-8865-bb0ee0ce1318"
   },
   "outputs": [
    {
     "name": "stdout",
     "output_type": "stream",
     "text": [
      "tf.Tensor([[0.05150013 0.04860964 0.10104327]], shape=(1, 3), dtype=float32)\n"
     ]
    }
   ],
   "source": [
    "# Call the custom layer on a Tensor input of ones of size 4\n",
    "\n",
    "x = tf.ones((1,4))\n",
    "print(dense_layer(x))"
   ]
  },
  {
   "cell_type": "code",
   "execution_count": 12,
   "metadata": {
    "colab": {
     "base_uri": "https://localhost:8080/"
    },
    "id": "xzcYb9pQmE0E",
    "outputId": "b5763077-f1a1-4440-c22e-dc96d88affef"
   },
   "outputs": [
    {
     "data": {
      "text/plain": [
       "[<tf.Variable 'my_layer_2/Variable:0' shape=(4, 3) dtype=float32, numpy=\n",
       " array([[ 0.04915868, -0.03042313,  0.00626057],\n",
       "        [ 0.02002618,  0.01307696,  0.02019504],\n",
       "        [-0.0075447 ,  0.03402066,  0.0218226 ],\n",
       "        [-0.01014003,  0.03193515,  0.05276505]], dtype=float32)>,\n",
       " <tf.Variable 'my_layer_2/Variable:0' shape=(3,) dtype=float32, numpy=array([0., 0., 0.], dtype=float32)>]"
      ]
     },
     "execution_count": 12,
     "metadata": {},
     "output_type": "execute_result"
    }
   ],
   "source": [
    "# Print the layer weights\n",
    "\n",
    "dense_layer.weights"
   ]
  },
  {
   "cell_type": "markdown",
   "metadata": {
    "id": "TM8qJyGqmE0F"
   },
   "source": [
    "Note that the code for creating a custom layer object is identical, but the shape of the weights in the layer depend on the size of the input passed to the layer."
   ]
  },
  {
   "cell_type": "markdown",
   "metadata": {
    "id": "aBd4c75CmE0F"
   },
   "source": [
    "## Flexible input shapes in models"
   ]
  },
  {
   "cell_type": "markdown",
   "metadata": {
    "id": "cZ7d5K9OmE0G"
   },
   "source": [
    "Deferring the weight creation until the layer is called is also useful when using the custom layer as an intermediate layer inside a larger model. In this case you may want to create several custom layer objects in the model, and it is tedious to keep track of the input shape that each of the custom layers needs. \n",
    "\n",
    "By deferring the weight creation as above, the input shape can be inferred from the output of the previous layer."
   ]
  },
  {
   "cell_type": "code",
   "execution_count": 13,
   "metadata": {
    "id": "yHFwy01xmE0G"
   },
   "outputs": [],
   "source": [
    "# Create a model using the custom layer\n",
    "\n",
    "from tensorflow.keras.models import Model\n",
    "from tensorflow.keras.layers import Softmax\n",
    "\n",
    "class MyModel(Model):\n",
    "\n",
    "    def __init__(self, units_1, units_2, **kwargs):\n",
    "        super(MyModel, self).__init__(**kwargs)\n",
    "        self.layer_1 = MyLayer(units_1)\n",
    "        self.layer_2 = MyLayer(units_2)\n",
    "\n",
    "    def call(self, inputs):\n",
    "        x = self.layer_1(inputs)\n",
    "        x = tf.nn.relu(x)\n",
    "        x = self.layer_2(x)\n",
    "        return Softmax()(x)"
   ]
  },
  {
   "cell_type": "markdown",
   "metadata": {
    "id": "ixtWEQQQmE0G"
   },
   "source": [
    "In the above model definition, the custom layer `MyLayer` is used twice. Notice that each instance of the custom layer object can have a different input size, depending on the arguments used to create the model and the inputs passed into the model"
   ]
  },
  {
   "cell_type": "code",
   "execution_count": 14,
   "metadata": {
    "id": "WxeWdnZ7mE0H"
   },
   "outputs": [],
   "source": [
    "# Create a custom model object\n",
    "\n",
    "model = MyModel(units_1=32, units_2=10)"
   ]
  },
  {
   "cell_type": "markdown",
   "metadata": {
    "id": "4lGJUnQumE0H"
   },
   "source": [
    "We can create and initialise all of the weights of the model by passing in an example Tensor input."
   ]
  },
  {
   "cell_type": "code",
   "execution_count": 15,
   "metadata": {
    "id": "OvVu1wEXmE0H"
   },
   "outputs": [],
   "source": [
    "# Create and initialize all of the model weights\n",
    "\n",
    "_ = model(tf.ones((1, 100)))"
   ]
  },
  {
   "cell_type": "code",
   "execution_count": 16,
   "metadata": {
    "colab": {
     "base_uri": "https://localhost:8080/"
    },
    "id": "PH089itpmE0H",
    "outputId": "94c1ad1a-287d-4720-d6c5-c360037f7d55"
   },
   "outputs": [
    {
     "name": "stdout",
     "output_type": "stream",
     "text": [
      "Model: \"my_model\"\n",
      "_________________________________________________________________\n",
      " Layer (type)                Output Shape              Param #   \n",
      "=================================================================\n",
      " my_layer_3 (MyLayer)        multiple                  3232      \n",
      "                                                                 \n",
      " my_layer_4 (MyLayer)        multiple                  330       \n",
      "                                                                 \n",
      "=================================================================\n",
      "Total params: 3,562\n",
      "Trainable params: 3,562\n",
      "Non-trainable params: 0\n",
      "_________________________________________________________________\n"
     ]
    }
   ],
   "source": [
    "# Print the model summary\n",
    "\n",
    "model.summary()"
   ]
  },
  {
   "cell_type": "markdown",
   "metadata": {
    "id": "J8A_84sbmE0H"
   },
   "source": [
    "## Further reading and resources \n",
    "* https://www.tensorflow.org/guide/keras/custom_layers_and_models#best_practice_deferring_weight_creation_until_the_shape_of_the_inputs_is_known"
   ]
  }
 ],
 "metadata": {
  "colab": {
   "collapsed_sections": [],
   "name": "2_4_The build method",
   "provenance": []
  },
  "kernelspec": {
   "display_name": "Python 3 (ipykernel)",
   "language": "python",
   "name": "python3"
  },
  "language_info": {
   "codemirror_mode": {
    "name": "ipython",
    "version": 3
   },
   "file_extension": ".py",
   "mimetype": "text/x-python",
   "name": "python",
   "nbconvert_exporter": "python",
   "pygments_lexer": "ipython3",
   "version": "3.8.11"
  }
 },
 "nbformat": 4,
 "nbformat_minor": 1
}
