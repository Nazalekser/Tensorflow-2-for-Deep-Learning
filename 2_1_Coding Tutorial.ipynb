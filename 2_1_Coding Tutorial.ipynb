{
 "cells": [
  {
   "cell_type": "code",
   "execution_count": 1,
   "metadata": {
    "colab": {
     "base_uri": "https://localhost:8080/"
    },
    "executionInfo": {
     "elapsed": 1912,
     "status": "ok",
     "timestamp": 1626867216489,
     "user": {
      "displayName": "Aleksei Nazarov",
      "photoUrl": "",
      "userId": "17382596115978983204"
     },
     "user_tz": -180
    },
    "id": "2v8fuKHS1GZ3",
    "outputId": "35771e5d-1249-4196-a8bb-82cf3ab901c2"
   },
   "outputs": [
    {
     "name": "stdout",
     "output_type": "stream",
     "text": [
      "2.5.0\n"
     ]
    }
   ],
   "source": [
    "import tensorflow as tf\n",
    "print(tf.__version__)"
   ]
  },
  {
   "cell_type": "code",
   "execution_count": 2,
   "metadata": {
    "colab": {
     "base_uri": "https://localhost:8080/"
    },
    "executionInfo": {
     "elapsed": 32501,
     "status": "ok",
     "timestamp": 1626867248972,
     "user": {
      "displayName": "Aleksei Nazarov",
      "photoUrl": "",
      "userId": "17382596115978983204"
     },
     "user_tz": -180
    },
    "id": "kBueePrf1KFI",
    "outputId": "d284e97f-4c7b-484a-ad0c-e4fd108594d0"
   },
   "outputs": [
    {
     "name": "stdout",
     "output_type": "stream",
     "text": [
      "Mounted at /content/drive\n"
     ]
    }
   ],
   "source": [
    "from google.colab import drive\n",
    "drive.mount('/content/drive')"
   ]
  },
  {
   "cell_type": "markdown",
   "metadata": {
    "id": "Lh7DhbVY1GaB"
   },
   "source": [
    "# The Sequential model API"
   ]
  },
  {
   "cell_type": "markdown",
   "metadata": {
    "id": "sg7yk9mS1GaD"
   },
   "source": [
    " ## Coding tutorials\n",
    " #### [1. Building a Sequential model](#coding_tutorial_1)\n",
    " #### [2. Convolutional and pooling layers](#coding_tutorial_2)\n",
    " #### [3. The compile method](#coding_tutorial_3)\n",
    " #### [4. The fit method](#coding_tutorial_4)\n",
    " #### [5. The evaluate and predict methods](#coding_tutorial_5)"
   ]
  },
  {
   "cell_type": "markdown",
   "metadata": {
    "id": "1zcL5T0z1GaF"
   },
   "source": [
    "***\n",
    "<a id=\"coding_tutorial_1\"></a>\n",
    "## Building a Sequential model"
   ]
  },
  {
   "cell_type": "code",
   "execution_count": 3,
   "metadata": {
    "executionInfo": {
     "elapsed": 45,
     "status": "ok",
     "timestamp": 1626867248975,
     "user": {
      "displayName": "Aleksei Nazarov",
      "photoUrl": "",
      "userId": "17382596115978983204"
     },
     "user_tz": -180
    },
    "id": "bm3fKj5L1GaH"
   },
   "outputs": [],
   "source": [
    "from tensorflow.keras.models import Sequential\n",
    "from tensorflow.keras.layers import Dense, Flatten, Softmax"
   ]
  },
  {
   "cell_type": "markdown",
   "metadata": {
    "id": "APjY0U1h1GaJ"
   },
   "source": [
    "#### Build a feedforward neural network model"
   ]
  },
  {
   "cell_type": "code",
   "execution_count": 4,
   "metadata": {
    "executionInfo": {
     "elapsed": 42,
     "status": "ok",
     "timestamp": 1626867248977,
     "user": {
      "displayName": "Aleksei Nazarov",
      "photoUrl": "",
      "userId": "17382596115978983204"
     },
     "user_tz": -180
    },
    "id": "wHqlc0VF1GaL"
   },
   "outputs": [],
   "source": [
    "# Build the Sequential feedforward neural network model\n",
    "model = Sequential ([\n",
    "    Flatten(input_shape=(28,28)),\n",
    "    Dense(16, activation='relu', name='layer_1'),\n",
    "    Dense(16, activation='relu'),\n",
    "    Dense(10),\n",
    "    Softmax()\n",
    "])\n",
    "\n"
   ]
  },
  {
   "cell_type": "code",
   "execution_count": 5,
   "metadata": {
    "colab": {
     "base_uri": "https://localhost:8080/"
    },
    "executionInfo": {
     "elapsed": 39,
     "status": "ok",
     "timestamp": 1626867248979,
     "user": {
      "displayName": "Aleksei Nazarov",
      "photoUrl": "",
      "userId": "17382596115978983204"
     },
     "user_tz": -180
    },
    "id": "yCZW9NS81GaN",
    "outputId": "aff688af-a9bc-4889-c493-97af0e7ba34d"
   },
   "outputs": [
    {
     "name": "stdout",
     "output_type": "stream",
     "text": [
      "Model: \"sequential\"\n",
      "_________________________________________________________________\n",
      "Layer (type)                 Output Shape              Param #   \n",
      "=================================================================\n",
      "flatten (Flatten)            (None, 784)               0         \n",
      "_________________________________________________________________\n",
      "layer_1 (Dense)              (None, 16)                12560     \n",
      "_________________________________________________________________\n",
      "dense (Dense)                (None, 16)                272       \n",
      "_________________________________________________________________\n",
      "dense_1 (Dense)              (None, 10)                170       \n",
      "_________________________________________________________________\n",
      "softmax (Softmax)            (None, 10)                0         \n",
      "=================================================================\n",
      "Total params: 13,002\n",
      "Trainable params: 13,002\n",
      "Non-trainable params: 0\n",
      "_________________________________________________________________\n"
     ]
    }
   ],
   "source": [
    "# Print the model summary\n",
    "\n",
    "model.summary()"
   ]
  },
  {
   "cell_type": "markdown",
   "metadata": {
    "id": "WbvswSB41GaP"
   },
   "source": [
    "***\n",
    "<a id=\"coding_tutorial_2\"></a>\n",
    "## Convolutional and pooling layers"
   ]
  },
  {
   "cell_type": "code",
   "execution_count": 6,
   "metadata": {
    "executionInfo": {
     "elapsed": 32,
     "status": "ok",
     "timestamp": 1626867248981,
     "user": {
      "displayName": "Aleksei Nazarov",
      "photoUrl": "",
      "userId": "17382596115978983204"
     },
     "user_tz": -180
    },
    "id": "i5NTM7ZJ1GaS"
   },
   "outputs": [],
   "source": [
    "from tensorflow.keras.models import Sequential\n",
    "from tensorflow.keras.layers import Dense, Flatten, Conv2D, MaxPooling2D"
   ]
  },
  {
   "cell_type": "markdown",
   "metadata": {
    "id": "wn_1ksQA1GaU"
   },
   "source": [
    "#### Build a convolutional neural network model"
   ]
  },
  {
   "cell_type": "code",
   "execution_count": 30,
   "metadata": {
    "executionInfo": {
     "elapsed": 880,
     "status": "ok",
     "timestamp": 1626867445044,
     "user": {
      "displayName": "Aleksei Nazarov",
      "photoUrl": "",
      "userId": "17382596115978983204"
     },
     "user_tz": -180
    },
    "id": "HZo1ao6e1GaX"
   },
   "outputs": [],
   "source": [
    "# Build the Sequential convolutional neural network model\n",
    "model = Sequential([\n",
    "    Conv2D(16, (3,3), activation='relu', input_shape=(28, 28, 1)),\n",
    "    MaxPooling2D((3,3)),\n",
    "    Flatten(),\n",
    "    Dense(10,activation='softmax')\n",
    "])\n"
   ]
  },
  {
   "cell_type": "code",
   "execution_count": 31,
   "metadata": {
    "colab": {
     "base_uri": "https://localhost:8080/"
    },
    "executionInfo": {
     "elapsed": 412,
     "status": "ok",
     "timestamp": 1626867448323,
     "user": {
      "displayName": "Aleksei Nazarov",
      "photoUrl": "",
      "userId": "17382596115978983204"
     },
     "user_tz": -180
    },
    "id": "RFX25qUk1GaY",
    "outputId": "223650a1-f21f-45e0-aa46-891fd796eccc"
   },
   "outputs": [
    {
     "name": "stdout",
     "output_type": "stream",
     "text": [
      "Model: \"sequential_2\"\n",
      "_________________________________________________________________\n",
      "Layer (type)                 Output Shape              Param #   \n",
      "=================================================================\n",
      "conv2d_1 (Conv2D)            (None, 26, 26, 16)        160       \n",
      "_________________________________________________________________\n",
      "max_pooling2d_1 (MaxPooling2 (None, 8, 8, 16)          0         \n",
      "_________________________________________________________________\n",
      "flatten_2 (Flatten)          (None, 1024)              0         \n",
      "_________________________________________________________________\n",
      "dense_3 (Dense)              (None, 10)                10250     \n",
      "=================================================================\n",
      "Total params: 10,410\n",
      "Trainable params: 10,410\n",
      "Non-trainable params: 0\n",
      "_________________________________________________________________\n"
     ]
    }
   ],
   "source": [
    "# Print the model summary\n",
    "model.summary()\n"
   ]
  },
  {
   "cell_type": "markdown",
   "metadata": {
    "id": "kLJohmY21Gaa"
   },
   "source": [
    "***\n",
    "<a id=\"coding_tutorial_3\"></a>\n",
    "## The compile method"
   ]
  },
  {
   "cell_type": "markdown",
   "metadata": {
    "id": "wahqFRnH1Gaa"
   },
   "source": [
    "#### Compile the model"
   ]
  },
  {
   "cell_type": "code",
   "execution_count": 41,
   "metadata": {
    "colab": {
     "base_uri": "https://localhost:8080/"
    },
    "executionInfo": {
     "elapsed": 432,
     "status": "ok",
     "timestamp": 1626867669295,
     "user": {
      "displayName": "Aleksei Nazarov",
      "photoUrl": "",
      "userId": "17382596115978983204"
     },
     "user_tz": -180
    },
    "id": "nR-DfQQN1Gad",
    "outputId": "760befc3-2c4d-4c17-8e8d-083f71beae7e"
   },
   "outputs": [
    {
     "name": "stdout",
     "output_type": "stream",
     "text": [
      "sparse_categorical_crossentropy\n",
      "<tensorflow.python.keras.optimizer_v2.adam.Adam object at 0x7f87c0f302d0>\n",
      "[]\n",
      "<tf.Variable 'learning_rate:0' shape=() dtype=float32, numpy=0.005>\n"
     ]
    }
   ],
   "source": [
    "# Define the model optimizer, loss function and metrics\n",
    "\n",
    "opt = tf.keras.optimizers.Adam(learning_rate=0.005)\n",
    "acc = tf.keras.metrics.SparseCategoricalAccuracy()\n",
    "mae = tf.keras.metrics.MeanAbsoluteError()\n",
    "\n",
    "model.compile(optimizer=opt,\n",
    "             loss='sparse_categorical_crossentropy',\n",
    "             metrics=[acc, mae])\n",
    "\n",
    "# Print the resulting model attributes\n",
    "print(model.loss)\n",
    "print(model.optimizer)\n",
    "print(model.metrics)\n",
    "print(model.optimizer.lr)"
   ]
  },
  {
   "cell_type": "markdown",
   "metadata": {
    "id": "fgDJoN5Z1Gaf"
   },
   "source": [
    "***\n",
    "<a id=\"coding_tutorial_4\"></a>\n",
    "## The fit method"
   ]
  },
  {
   "cell_type": "code",
   "execution_count": 42,
   "metadata": {
    "executionInfo": {
     "elapsed": 583,
     "status": "ok",
     "timestamp": 1626867675975,
     "user": {
      "displayName": "Aleksei Nazarov",
      "photoUrl": "",
      "userId": "17382596115978983204"
     },
     "user_tz": -180
    },
    "id": "6XUJOLJs1Gah"
   },
   "outputs": [],
   "source": [
    "from tensorflow.keras.preprocessing import image\n",
    "import matplotlib.pyplot as plt\n",
    "import numpy as np\n",
    "import pandas as pd"
   ]
  },
  {
   "cell_type": "markdown",
   "metadata": {
    "id": "hmJEVxOm1Gaj"
   },
   "source": [
    "#### Load the data"
   ]
  },
  {
   "cell_type": "code",
   "execution_count": 43,
   "metadata": {
    "executionInfo": {
     "elapsed": 565,
     "status": "ok",
     "timestamp": 1626867679579,
     "user": {
      "displayName": "Aleksei Nazarov",
      "photoUrl": "",
      "userId": "17382596115978983204"
     },
     "user_tz": -180
    },
    "id": "VyBoA5-v1Gak"
   },
   "outputs": [],
   "source": [
    "# Load the Fashion-MNIST dataset\n",
    "\n",
    "fashion_mnist_data = tf.keras.datasets.fashion_mnist\n",
    "(train_images, train_labels), (test_images, test_labels) = fashion_mnist_data.load_data()"
   ]
  },
  {
   "cell_type": "code",
   "execution_count": 44,
   "metadata": {
    "colab": {
     "base_uri": "https://localhost:8080/"
    },
    "executionInfo": {
     "elapsed": 17,
     "status": "ok",
     "timestamp": 1626867679581,
     "user": {
      "displayName": "Aleksei Nazarov",
      "photoUrl": "",
      "userId": "17382596115978983204"
     },
     "user_tz": -180
    },
    "id": "4S0KQ9_Y1Gam",
    "outputId": "8bdd5623-7754-4eb4-fddd-fb059a66cc64"
   },
   "outputs": [
    {
     "data": {
      "text/plain": [
       "(60000, 28, 28)"
      ]
     },
     "execution_count": 44,
     "metadata": {
      "tags": []
     },
     "output_type": "execute_result"
    }
   ],
   "source": [
    "# Print the shape of the training data\n",
    "\n",
    "train_images.shape"
   ]
  },
  {
   "cell_type": "code",
   "execution_count": 45,
   "metadata": {
    "colab": {
     "base_uri": "https://localhost:8080/"
    },
    "executionInfo": {
     "elapsed": 22,
     "status": "ok",
     "timestamp": 1626867682782,
     "user": {
      "displayName": "Aleksei Nazarov",
      "photoUrl": "",
      "userId": "17382596115978983204"
     },
     "user_tz": -180
    },
    "id": "-2mman011Gao",
    "outputId": "92a2e55a-7dcd-4b84-f1a3-d2ae7e7c9349"
   },
   "outputs": [
    {
     "name": "stdout",
     "output_type": "stream",
     "text": [
      "9\n"
     ]
    }
   ],
   "source": [
    "# Define the labels\n",
    "\n",
    "labels = [\n",
    "    'T-shirt/top',\n",
    "    'Trouser',\n",
    "    'Pullover',\n",
    "    'Dress',\n",
    "    'Coat',\n",
    "    'Sandal',\n",
    "    'Shirt',\n",
    "    'Sneaker',\n",
    "    'Bag',\n",
    "    'Ankle boot'\n",
    "]\n",
    "\n",
    "print(train_labels[0])"
   ]
  },
  {
   "cell_type": "code",
   "execution_count": 46,
   "metadata": {
    "executionInfo": {
     "elapsed": 6,
     "status": "ok",
     "timestamp": 1626867684021,
     "user": {
      "displayName": "Aleksei Nazarov",
      "photoUrl": "",
      "userId": "17382596115978983204"
     },
     "user_tz": -180
    },
    "id": "QIL0jkNo1Gar"
   },
   "outputs": [],
   "source": [
    "# Rescale the image values so that they lie in between 0 and 1.\n",
    "train_images = train_images / 255.\n",
    "test_images = test_images / 255."
   ]
  },
  {
   "cell_type": "code",
   "execution_count": 51,
   "metadata": {
    "colab": {
     "base_uri": "https://localhost:8080/",
     "height": 283
    },
    "executionInfo": {
     "elapsed": 461,
     "status": "ok",
     "timestamp": 1626868759766,
     "user": {
      "displayName": "Aleksei Nazarov",
      "photoUrl": "",
      "userId": "17382596115978983204"
     },
     "user_tz": -180
    },
    "id": "u2NI-5NW1Gas",
    "outputId": "c9fabdbf-fa5a-4d2a-a380-2436fd2964e1"
   },
   "outputs": [
    {
     "data": {
      "image/png": "[encoded data removed]",
      "text/plain": [
       "<Figure size 432x288 with 1 Axes>"
      ]
     },
     "metadata": {
      "needs_background": "light",
      "tags": []
     },
     "output_type": "display_data"
    },
    {
     "name": "stdout",
     "output_type": "stream",
     "text": [
      "label: Ankle boot\n"
     ]
    }
   ],
   "source": [
    "# Display one of the images\n",
    "i = 0\n",
    "img = train_images [i,:,:]\n",
    "plt.imshow(img)\n",
    "plt.show()\n",
    "print(f\"label: {labels[train_labels[i]]}\")\n"
   ]
  },
  {
   "cell_type": "markdown",
   "metadata": {
    "id": "Fbj879bS1Gau"
   },
   "source": [
    "#### Fit the model"
   ]
  },
  {
   "cell_type": "code",
   "execution_count": 48,
   "metadata": {
    "colab": {
     "base_uri": "https://localhost:8080/"
    },
    "executionInfo": {
     "elapsed": 102445,
     "status": "ok",
     "timestamp": 1626867790495,
     "user": {
      "displayName": "Aleksei Nazarov",
      "photoUrl": "",
      "userId": "17382596115978983204"
     },
     "user_tz": -180
    },
    "id": "CkQzixEa1Gau",
    "outputId": "b01d19c3-3b9c-439a-eb8d-034e9fc99f8d"
   },
   "outputs": [
    {
     "name": "stdout",
     "output_type": "stream",
     "text": [
      "Epoch 1/8\n",
      "235/235 - 13s - loss: 0.5663 - sparse_categorical_accuracy: 0.8012 - mean_absolute_error: 4.4200\n",
      "Epoch 2/8\n",
      "235/235 - 13s - loss: 0.3745 - sparse_categorical_accuracy: 0.8682 - mean_absolute_error: 4.4200\n",
      "Epoch 3/8\n",
      "235/235 - 13s - loss: 0.3466 - sparse_categorical_accuracy: 0.8777 - mean_absolute_error: 4.4200\n",
      "Epoch 4/8\n",
      "235/235 - 13s - loss: 0.3267 - sparse_categorical_accuracy: 0.8843 - mean_absolute_error: 4.4200\n",
      "Epoch 5/8\n",
      "235/235 - 13s - loss: 0.3164 - sparse_categorical_accuracy: 0.8875 - mean_absolute_error: 4.4200\n",
      "Epoch 6/8\n",
      "235/235 - 13s - loss: 0.3080 - sparse_categorical_accuracy: 0.8895 - mean_absolute_error: 4.4200\n",
      "Epoch 7/8\n",
      "235/235 - 13s - loss: 0.2957 - sparse_categorical_accuracy: 0.8941 - mean_absolute_error: 4.4200\n",
      "Epoch 8/8\n",
      "235/235 - 13s - loss: 0.2919 - sparse_categorical_accuracy: 0.8961 - mean_absolute_error: 4.4200\n"
     ]
    }
   ],
   "source": [
    "# Fit the model\n",
    "history = model.fit(train_images[...,np.newaxis], train_labels, epochs=8, batch_size=256, verbose = 2)\n"
   ]
  },
  {
   "cell_type": "markdown",
   "metadata": {
    "id": "5r2Y8Zu01Gav"
   },
   "source": [
    "#### Plot training history"
   ]
  },
  {
   "cell_type": "code",
   "execution_count": 52,
   "metadata": {
    "colab": {
     "base_uri": "https://localhost:8080/",
     "height": 206
    },
    "executionInfo": {
     "elapsed": 450,
     "status": "ok",
     "timestamp": 1626868951375,
     "user": {
      "displayName": "Aleksei Nazarov",
      "photoUrl": "",
      "userId": "17382596115978983204"
     },
     "user_tz": -180
    },
    "id": "R3nf5Wb71Gaw",
    "outputId": "c3261e27-eabd-4052-eda6-fcb06e1a9561"
   },
   "outputs": [
    {
     "data": {
      "text/html": [
       "<div>\n",
       "<style scoped>\n",
       "    .dataframe tbody tr th:only-of-type {\n",
       "        vertical-align: middle;\n",
       "    }\n",
       "\n",
       "    .dataframe tbody tr th {\n",
       "        vertical-align: top;\n",
       "    }\n",
       "\n",
       "    .dataframe thead th {\n",
       "        text-align: right;\n",
       "    }\n",
       "</style>\n",
       "<table border=\"1\" class=\"dataframe\">\n",
       "  <thead>\n",
       "    <tr style=\"text-align: right;\">\n",
       "      <th></th>\n",
       "      <th>loss</th>\n",
       "      <th>sparse_categorical_accuracy</th>\n",
       "      <th>mean_absolute_error</th>\n",
       "    </tr>\n",
       "  </thead>\n",
       "  <tbody>\n",
       "    <tr>\n",
       "      <th>0</th>\n",
       "      <td>0.566347</td>\n",
       "      <td>0.801183</td>\n",
       "      <td>4.420001</td>\n",
       "    </tr>\n",
       "    <tr>\n",
       "      <th>1</th>\n",
       "      <td>0.374483</td>\n",
       "      <td>0.868217</td>\n",
       "      <td>4.419999</td>\n",
       "    </tr>\n",
       "    <tr>\n",
       "      <th>2</th>\n",
       "      <td>0.346601</td>\n",
       "      <td>0.877667</td>\n",
       "      <td>4.420000</td>\n",
       "    </tr>\n",
       "    <tr>\n",
       "      <th>3</th>\n",
       "      <td>0.326729</td>\n",
       "      <td>0.884300</td>\n",
       "      <td>4.419999</td>\n",
       "    </tr>\n",
       "    <tr>\n",
       "      <th>4</th>\n",
       "      <td>0.316427</td>\n",
       "      <td>0.887467</td>\n",
       "      <td>4.420000</td>\n",
       "    </tr>\n",
       "  </tbody>\n",
       "</table>\n",
       "</div>"
      ],
      "text/plain": [
       "       loss  sparse_categorical_accuracy  mean_absolute_error\n",
       "0  0.566347                     0.801183             4.420001\n",
       "1  0.374483                     0.868217             4.419999\n",
       "2  0.346601                     0.877667             4.420000\n",
       "3  0.326729                     0.884300             4.419999\n",
       "4  0.316427                     0.887467             4.420000"
      ]
     },
     "execution_count": 52,
     "metadata": {
      "tags": []
     },
     "output_type": "execute_result"
    }
   ],
   "source": [
    "# Load the history into a pandas Dataframe\n",
    "df = pd.DataFrame(history.history)\n",
    "df.head()\n"
   ]
  },
  {
   "cell_type": "code",
   "execution_count": 58,
   "metadata": {
    "colab": {
     "base_uri": "https://localhost:8080/",
     "height": 313
    },
    "executionInfo": {
     "elapsed": 448,
     "status": "ok",
     "timestamp": 1626869424557,
     "user": {
      "displayName": "Aleksei Nazarov",
      "photoUrl": "",
      "userId": "17382596115978983204"
     },
     "user_tz": -180
    },
    "id": "3p9wbApa1Gaw",
    "outputId": "27888569-170b-486c-c234-9bd896d2f81b"
   },
   "outputs": [
    {
     "data": {
      "text/plain": [
       "[Text(0, 0.5, 'loss'), Text(0.5, 0, 'Epochs')]"
      ]
     },
     "execution_count": 58,
     "metadata": {
      "tags": []
     },
     "output_type": "execute_result"
    },
    {
     "data": {
      "image/png": "[encoded data removed]",
      "text/plain": [
       "<Figure size 432x288 with 1 Axes>"
      ]
     },
     "metadata": {
      "needs_background": "light",
      "tags": []
     },
     "output_type": "display_data"
    }
   ],
   "source": [
    "# Make a plot for the loss\n",
    "loss_plot = df.plot(y=\"loss\", title = \"Loss vs. Epochs\", legend=False)\n",
    "loss_plot.set(xlabel=\"Epochs\", ylabel=\"loss\")\n"
   ]
  },
  {
   "cell_type": "code",
   "execution_count": 57,
   "metadata": {
    "colab": {
     "base_uri": "https://localhost:8080/",
     "height": 313
    },
    "executionInfo": {
     "elapsed": 499,
     "status": "ok",
     "timestamp": 1626869055278,
     "user": {
      "displayName": "Aleksei Nazarov",
      "photoUrl": "",
      "userId": "17382596115978983204"
     },
     "user_tz": -180
    },
    "id": "RWK7NHmZ1Gax",
    "outputId": "c5420e4b-3ef7-4e9d-9247-23c0bcab0f5c"
   },
   "outputs": [
    {
     "data": {
      "text/plain": [
       "[Text(0, 0.5, 'Accuracy'), Text(0.5, 0, 'Epochs')]"
      ]
     },
     "execution_count": 57,
     "metadata": {
      "tags": []
     },
     "output_type": "execute_result"
    },
    {
     "data": {
      "image/png": "[encoded data removed]",
      "text/plain": [
       "<Figure size 432x288 with 1 Axes>"
      ]
     },
     "metadata": {
      "needs_background": "light",
      "tags": []
     },
     "output_type": "display_data"
    }
   ],
   "source": [
    "# Make a plot for the accuracy\n",
    "accuracy_plot = df.plot(y=\"sparse_categorical_accuracy\", \n",
    "                        title = \"Accuracy vs. Epochs\", legend=False)\n",
    "accuracy_plot.set(xlabel=\"Epochs\", ylabel=\"Accuracy\")\n"
   ]
  },
  {
   "cell_type": "code",
   "execution_count": 56,
   "metadata": {
    "colab": {
     "base_uri": "https://localhost:8080/",
     "height": 313
    },
    "executionInfo": {
     "elapsed": 643,
     "status": "ok",
     "timestamp": 1626869016913,
     "user": {
      "displayName": "Aleksei Nazarov",
      "photoUrl": "",
      "userId": "17382596115978983204"
     },
     "user_tz": -180
    },
    "id": "NEF96OEp1Gax",
    "outputId": "0827633b-bb68-4157-fe7d-7f4ac59c7866"
   },
   "outputs": [
    {
     "data": {
      "text/plain": [
       "[Text(0, 0.5, 'Metrics'), Text(0.5, 0, 'Epochs')]"
      ]
     },
     "execution_count": 56,
     "metadata": {
      "tags": []
     },
     "output_type": "execute_result"
    },
    {
     "data": {
      "image/png": "[encoded data removed]",
      "text/plain": [
       "<Figure size 432x288 with 1 Axes>"
      ]
     },
     "metadata": {
      "needs_background": "light",
      "tags": []
     },
     "output_type": "display_data"
    }
   ],
   "source": [
    "# Make a plot for the additional metric\n",
    "metrics_plot = df.plot(y=\"mean_absolute_error\", title = \"Metrics vs. Epochs\", legend=False)\n",
    "metrics_plot.set(xlabel=\"Epochs\", ylabel=\"Metrics\")\n"
   ]
  },
  {
   "cell_type": "markdown",
   "metadata": {
    "id": "h0ia0ifr1Gaz"
   },
   "source": [
    "***\n",
    "<a id=\"coding_tutorial_5\"></a>\n",
    "## The evaluate and predict methods"
   ]
  },
  {
   "cell_type": "code",
   "execution_count": 22,
   "metadata": {
    "executionInfo": {
     "elapsed": 37,
     "status": "ok",
     "timestamp": 1626867250730,
     "user": {
      "displayName": "Aleksei Nazarov",
      "photoUrl": "",
      "userId": "17382596115978983204"
     },
     "user_tz": -180
    },
    "id": "HMY_oMN21Ga0"
   },
   "outputs": [],
   "source": [
    "import matplotlib.pyplot as plt\n",
    "import numpy as np"
   ]
  },
  {
   "cell_type": "markdown",
   "metadata": {
    "id": "Xl6bZhpz1Ga1"
   },
   "source": [
    "#### Evaluate the model on the test set"
   ]
  },
  {
   "cell_type": "code",
   "execution_count": 59,
   "metadata": {
    "colab": {
     "base_uri": "https://localhost:8080/"
    },
    "executionInfo": {
     "elapsed": 1856,
     "status": "ok",
     "timestamp": 1626870101770,
     "user": {
      "displayName": "Aleksei Nazarov",
      "photoUrl": "",
      "userId": "17382596115978983204"
     },
     "user_tz": -180
    },
    "id": "hatfDfA01Ga2",
    "outputId": "3bfaff8a-cdad-4c08-9964-f2ec005a07ae"
   },
   "outputs": [
    {
     "name": "stdout",
     "output_type": "stream",
     "text": [
      "313/313 - 2s - loss: 0.3221 - sparse_categorical_accuracy: 0.8878 - mean_absolute_error: 4.4200\n"
     ]
    }
   ],
   "source": [
    "# Evaluate the model\n",
    "test_loss, test_accuracy, test_mae = model.evaluate(test_images[..., np.newaxis], test_labels, verbose=2)\n"
   ]
  },
  {
   "cell_type": "markdown",
   "metadata": {
    "id": "pVbLftgV1Ga2"
   },
   "source": [
    "#### Make predictions from the model"
   ]
  },
  {
   "cell_type": "code",
   "execution_count": 60,
   "metadata": {
    "colab": {
     "base_uri": "https://localhost:8080/",
     "height": 283
    },
    "executionInfo": {
     "elapsed": 733,
     "status": "ok",
     "timestamp": 1626870119381,
     "user": {
      "displayName": "Aleksei Nazarov",
      "photoUrl": "",
      "userId": "17382596115978983204"
     },
     "user_tz": -180
    },
    "id": "sIsNTUrS1Ga3",
    "outputId": "d62fbbd8-2930-47aa-bfd9-1ec0510de9d6"
   },
   "outputs": [
    {
     "data": {
      "image/png": "[encoded data removed]",
      "text/plain": [
       "<Figure size 432x288 with 1 Axes>"
      ]
     },
     "metadata": {
      "needs_background": "light",
      "tags": []
     },
     "output_type": "display_data"
    },
    {
     "name": "stdout",
     "output_type": "stream",
     "text": [
      "Label: Bag\n"
     ]
    }
   ],
   "source": [
    "# Choose a random test image\n",
    "\n",
    "random_inx = np.random.choice(test_images.shape[0])\n",
    "\n",
    "test_image = test_images[random_inx]\n",
    "plt.imshow(test_image)\n",
    "plt.show()\n",
    "print(f\"Label: {labels[test_labels[random_inx]]}\")"
   ]
  },
  {
   "cell_type": "code",
   "execution_count": 62,
   "metadata": {
    "colab": {
     "base_uri": "https://localhost:8080/"
    },
    "executionInfo": {
     "elapsed": 425,
     "status": "ok",
     "timestamp": 1626870762506,
     "user": {
      "displayName": "Aleksei Nazarov",
      "photoUrl": "",
      "userId": "17382596115978983204"
     },
     "user_tz": -180
    },
    "id": "2h3Ekt5G1Ga4",
    "outputId": "ce4c94c8-8c28-4fd3-cb5a-f3bb2c5bd873"
   },
   "outputs": [
    {
     "name": "stdout",
     "output_type": "stream",
     "text": [
      "Model prediction: Bag\n"
     ]
    }
   ],
   "source": [
    "# Get the model predictions\n",
    "predictions = model.predict(test_image[np.newaxis,...,np.newaxis])\n",
    "print(f\"Model prediction: {labels[np.argmax(predictions)]}\")\n"
   ]
  },
  {
   "cell_type": "code",
   "execution_count": null,
   "metadata": {
    "id": "YeCczdm6BCyX"
   },
   "outputs": [],
   "source": []
  }
 ],
 "metadata": {
  "colab": {
   "collapsed_sections": [],
   "name": "Копия блокнота \"Coding Tutorial.ipynb\"",
   "provenance": [
    {
     "file_id": "1O8j3-q9ouRhKfe3Pr4iTkBrgGMlZF7po",
     "timestamp": 1625609204399
    }
   ]
  },
  "kernelspec": {
   "display_name": "Python 3",
   "language": "python",
   "name": "python3"
  },
  "language_info": {
   "codemirror_mode": {
    "name": "ipython",
    "version": 3
   },
   "file_extension": ".py",
   "mimetype": "text/x-python",
   "name": "python",
   "nbconvert_exporter": "python",
   "pygments_lexer": "ipython3",
   "version": "3.8.3"
  }
 },
 "nbformat": 4,
 "nbformat_minor": 1
}
